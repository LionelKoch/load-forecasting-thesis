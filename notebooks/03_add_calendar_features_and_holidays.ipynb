{
 "cells": [
  {
   "cell_type": "code",
   "execution_count": 34,
   "id": "013962d9-d462-4e3f-b3cb-10d1609692f0",
   "metadata": {},
   "outputs": [
    {
     "name": "stdout",
     "output_type": "stream",
     "text": [
      "                       Time  hour  day_of_week  month  is_weekend  is_holiday\n",
      "0 2021-06-01 00:00:00+00:00     0            1      6           0           0\n",
      "1 2021-06-01 00:15:00+00:00     0            1      6           0           0\n",
      "2 2021-06-01 00:30:00+00:00     0            1      6           0           0\n",
      "3 2021-06-01 00:45:00+00:00     0            1      6           0           0\n",
      "4 2021-06-01 01:00:00+00:00     1            1      6           0           0\n"
     ]
    }
   ],
   "source": [
    "import pandas as pd\n",
    "import holidays\n",
    "\n",
    "# Load your dataset\n",
    "df = pd.read_csv('Entire_load_data_2021_2024.csv')\n",
    "\n",
    "# Rename 'Unnamed: 0' to 'Time' if needed\n",
    "df.rename(columns={'Unnamed: 0': 'Time'}, inplace=True)\n",
    "\n",
    "# Ensure 'Time' is in datetime format\n",
    "df['Time'] = pd.to_datetime(df['Time'], utc=True)\n",
    "\n",
    "# Extract calendar-based features\n",
    "df['hour'] = df['Time'].dt.hour            # Hour of the day\n",
    "df['day_of_week'] = df['Time'].dt.dayofweek # Day of the week (0=Monday, 6=Sunday)\n",
    "df['month'] = df['Time'].dt.month          # Month\n",
    "df['day_of_year'] = df['Time'].dt.dayofyear # Day of the year\n",
    "df['is_weekend'] = df['day_of_week'].isin([5, 6]).astype(int)  # Weekend flag (Saturday=5, Sunday=6)\n",
    "\n",
    "# Add German public holidays\n",
    "german_holidays = holidays.Germany()\n",
    "\n",
    "# Create a holiday flag\n",
    "df['is_holiday'] = df['Time'].dt.date.apply(lambda x: int(x in german_holidays))\n",
    "\n",
    "# Verify the updated DataFrame\n",
    "print(df[['Time', 'hour', 'day_of_week', 'month', 'is_weekend', 'is_holiday']].head())\n",
    "\n",
    "# Save the updated dataset\n",
    "df.to_csv('updated_load_data_with_german_holidays.csv', index=False)\n"
   ]
  },
  {
   "cell_type": "code",
   "execution_count": 35,
   "id": "f666aec0-bf03-42d6-8518-c209f3528b10",
   "metadata": {},
   "outputs": [],
   "source": [
    "# Save all columns, including Actual Load\n",
    "df.to_csv('merged_load_data_with_calendar_features.csv', index=False)\n"
   ]
  },
  {
   "cell_type": "code",
   "execution_count": 36,
   "id": "d86ff642-2ef7-4ed4-9e2a-d2cb70c2efcd",
   "metadata": {},
   "outputs": [
    {
     "name": "stdout",
     "output_type": "stream",
     "text": [
      "Index(['Time', 'Actual Load', 'hour', 'day_of_week', 'month', 'day_of_year',\n",
      "       'is_weekend', 'is_holiday'],\n",
      "      dtype='object')\n"
     ]
    }
   ],
   "source": [
    "# Check the columns before saving\n",
    "print(df.columns)\n"
   ]
  },
  {
   "cell_type": "code",
   "execution_count": 38,
   "id": "31a047c0-3f7a-4970-a0a5-e4d10380cad8",
   "metadata": {},
   "outputs": [],
   "source": [
    "# Extract day of the week and start it from 1 (1=Monday, 7=Sunday)\n",
    "df['day_of_week'] = df['Time'].dt.dayofweek + 1\n"
   ]
  },
  {
   "cell_type": "code",
   "execution_count": 39,
   "id": "114bf5e4-ff12-4b27-9238-336367cc7a4b",
   "metadata": {},
   "outputs": [],
   "source": [
    "# Save the updated dataset to a CSV file\n",
    "df.to_csv('updated_load_data.csv', index=False)\n"
   ]
  },
  {
   "cell_type": "code",
   "execution_count": null,
   "id": "54359bf0-1aa4-47ee-bbbb-f8c9baeceecf",
   "metadata": {},
   "outputs": [],
   "source": []
  }
 ],
 "metadata": {
  "kernelspec": {
   "display_name": "Python 3 (ipykernel)",
   "language": "python",
   "name": "python3"
  },
  "language_info": {
   "codemirror_mode": {
    "name": "ipython",
    "version": 3
   },
   "file_extension": ".py",
   "mimetype": "text/x-python",
   "name": "python",
   "nbconvert_exporter": "python",
   "pygments_lexer": "ipython3",
   "version": "3.12.11"
  }
 },
 "nbformat": 4,
 "nbformat_minor": 5
}
