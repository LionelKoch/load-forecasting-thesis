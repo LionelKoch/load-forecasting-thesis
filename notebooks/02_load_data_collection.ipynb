version https://git-lfs.github.com/spec/v1
oid sha256:68589ef28d42218d07988a4879dd1cc8c8502cddc560a0358b95bbc551c156fd
size 4166
