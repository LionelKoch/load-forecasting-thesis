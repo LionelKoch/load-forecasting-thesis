{
 "cells": [
  {
   "cell_type": "code",
   "execution_count": 1,
   "id": "2d872fb4-cc4d-48d0-b85f-f9cf565df915",
   "metadata": {},
   "outputs": [
    {
     "name": "stdout",
     "output_type": "stream",
     "text": [
      "Collecting entsoe-py\n",
      "  Using cached entsoe_py-0.6.15-py3-none-any.whl.metadata (10 kB)\n",
      "Requirement already satisfied: requests in /opt/conda/lib/python3.11/site-packages (from entsoe-py) (2.32.3)\n",
      "Requirement already satisfied: pytz in /opt/conda/lib/python3.11/site-packages (from entsoe-py) (2024.1)\n",
      "Requirement already satisfied: beautifulsoup4>=4.11.1 in /opt/conda/lib/python3.11/site-packages (from entsoe-py) (4.12.3)\n",
      "Requirement already satisfied: pandas>=2.2.0 in /opt/conda/lib/python3.11/site-packages (from entsoe-py) (2.2.3)\n",
      "Requirement already satisfied: soupsieve>1.2 in /opt/conda/lib/python3.11/site-packages (from beautifulsoup4>=4.11.1->entsoe-py) (2.5)\n",
      "Requirement already satisfied: numpy>=1.23.2 in /opt/conda/lib/python3.11/site-packages (from pandas>=2.2.0->entsoe-py) (2.0.2)\n",
      "Requirement already satisfied: python-dateutil>=2.8.2 in /opt/conda/lib/python3.11/site-packages (from pandas>=2.2.0->entsoe-py) (2.9.0)\n",
      "Requirement already satisfied: tzdata>=2022.7 in /opt/conda/lib/python3.11/site-packages (from pandas>=2.2.0->entsoe-py) (2024.1)\n",
      "Requirement already satisfied: charset-normalizer<4,>=2 in /opt/conda/lib/python3.11/site-packages (from requests->entsoe-py) (3.3.2)\n",
      "Requirement already satisfied: idna<4,>=2.5 in /opt/conda/lib/python3.11/site-packages (from requests->entsoe-py) (3.10)\n",
      "Requirement already satisfied: urllib3<3,>=1.21.1 in /opt/conda/lib/python3.11/site-packages (from requests->entsoe-py) (2.2.3)\n",
      "Requirement already satisfied: certifi>=2017.4.17 in /opt/conda/lib/python3.11/site-packages (from requests->entsoe-py) (2024.8.30)\n",
      "Requirement already satisfied: six>=1.5 in /opt/conda/lib/python3.11/site-packages (from python-dateutil>=2.8.2->pandas>=2.2.0->entsoe-py) (1.16.0)\n",
      "Using cached entsoe_py-0.6.15-py3-none-any.whl (1.6 MB)\n",
      "Installing collected packages: entsoe-py\n",
      "Successfully installed entsoe-py-0.6.15\n",
      "Note: you may need to restart the kernel to use updated packages.\n"
     ]
    }
   ],
   "source": [
    "pip install entsoe-py\n"
   ]
  },
  {
   "cell_type": "code",
   "execution_count": 3,
   "id": "cacd828c-136b-4986-9397-4e16286c5c9b",
   "metadata": {},
   "outputs": [
    {
     "name": "stdout",
     "output_type": "stream",
     "text": [
      "Data saved to Entire_load_data_2021_2024.csv\n"
     ]
    }
   ],
   "source": [
    "from entsoe import EntsoePandasClient\n",
    "import pandas as pd\n",
    "\n",
    "# Initialize the client\n",
    "client = EntsoePandasClient(api_key=\"64c957da-cad7-44de-8b84-284ca4c46e7b\")\n",
    "\n",
    "# Set the country code and date range\n",
    "country_code = 'DE'\n",
    "start = pd.Timestamp('2021-06-01T00:00Z', tz='UTC')  \n",
    "end = pd.Timestamp('2024-06-01T00:00Z', tz='UTC')\n",
    "\n",
    "# Retrieve load data\n",
    "try:\n",
    "    load_data = client.query_load(country_code, start=start, end=end)\n",
    "\n",
    "    # Save the data to a CSV file\n",
    "    load_data.to_csv('Entire_load_data_2021_2024.csv')\n",
    "    print(\"Data saved to Entire_load_data_2021_2024.csv\")\n",
    "except Exception as e:\n",
    "    print(f\"An error occurred: {e}\")\n"
   ]
  },
  {
   "cell_type": "code",
   "execution_count": null,
   "id": "ce3dd77e-167f-45f5-bfad-f269e7528e78",
   "metadata": {},
   "outputs": [],
   "source": []
  }
 ],
 "metadata": {
  "kernelspec": {
   "display_name": "Python 3 (ipykernel)",
   "language": "python",
   "name": "python3"
  },
  "language_info": {
   "codemirror_mode": {
    "name": "ipython",
    "version": 3
   },
   "file_extension": ".py",
   "mimetype": "text/x-python",
   "name": "python",
   "nbconvert_exporter": "python",
   "pygments_lexer": "ipython3",
   "version": "3.12.11"
  }
 },
 "nbformat": 4,
 "nbformat_minor": 5
}
