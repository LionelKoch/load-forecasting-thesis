version https://git-lfs.github.com/spec/v1
oid sha256:173836e4a5062fc3b57adf6f648444838a1dbae03ad22c8d329081393badc5e0
size 6801
